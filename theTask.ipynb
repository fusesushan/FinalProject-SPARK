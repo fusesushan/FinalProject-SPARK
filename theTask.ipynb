{
 "cells": [
  {
   "cell_type": "code",
   "execution_count": 1,
   "metadata": {},
   "outputs": [],
   "source": [
    "from pyspark.sql import SparkSession"
   ]
  },
  {
   "cell_type": "code",
   "execution_count": 2,
   "metadata": {},
   "outputs": [
    {
     "name": "stderr",
     "output_type": "stream",
     "text": [
      "your 131072x1 screen size is bogus. expect trouble\n",
      "23/09/12 11:33:48 WARN Utils: Your hostname, SUSHAN resolves to a loopback address: 127.0.1.1; using 172.22.231.246 instead (on interface eth0)\n",
      "23/09/12 11:33:48 WARN Utils: Set SPARK_LOCAL_IP if you need to bind to another address\n",
      "Setting default log level to \"WARN\".\n",
      "To adjust logging level use sc.setLogLevel(newLevel). For SparkR, use setLogLevel(newLevel).\n",
      "23/09/12 11:33:51 WARN NativeCodeLoader: Unable to load native-hadoop library for your platform... using builtin-java classes where applicable\n"
     ]
    }
   ],
   "source": [
    "spark = SparkSession.builder.appName('finalproject')\\\n",
    "        .config('spark.driver.extraClassPath','/usr/lib/jvm/java-17-openjdk-amd64/lib/postgresql-42.6.0.jar')\\\n",
    "        .getOrCreate()"
   ]
  },
  {
   "cell_type": "code",
   "execution_count": 3,
   "metadata": {},
   "outputs": [],
   "source": [
    "hourlyPrices_df = spark.read.format('jdbc').options(url=\"jdbc:postgresql://localhost:5432/sparkProject\", driver = 'org.postgresql.Driver', dbtable='hourly_gasoline_prices', user='sushan',password='7446').load()\n",
    "stationInfo_df = spark.read.format('jdbc').options(url=\"jdbc:postgresql://localhost:5432/sparkProject\", driver = 'org.postgresql.Driver', dbtable='fuel_station_information', user='sushan',password='7446').load()"
   ]
  },
  {
   "cell_type": "code",
   "execution_count": 4,
   "metadata": {},
   "outputs": [
    {
     "name": "stderr",
     "output_type": "stream",
     "text": [
      "                                                                                \r"
     ]
    },
    {
     "name": "stdout",
     "output_type": "stream",
     "text": [
      "Total number of records in hourlyPrices: 2444337\n",
      "Total number of records in stationInfo: 22129\n"
     ]
    }
   ],
   "source": [
    "countt = hourlyPrices_df.count()\n",
    "print(\"Total number of records in hourlyPrices:\", countt)\n",
    "counttt = stationInfo_df.count()\n",
    "print(\"Total number of records in stationInfo:\", counttt)"
   ]
  },
  {
   "cell_type": "code",
   "execution_count": 5,
   "metadata": {},
   "outputs": [
    {
     "name": "stderr",
     "output_type": "stream",
     "text": [
      "[Stage 6:>                                                          (0 + 1) / 1]\r"
     ]
    },
    {
     "name": "stdout",
     "output_type": "stream",
     "text": [
      "+-----+------+-----+-------------------+\n",
      "|   Id|isSelf|Price|               Date|\n",
      "+-----+------+-----+-------------------+\n",
      "|43109|     0|1.989|2022-01-04 05:43:06|\n",
      "|30524|     0|2.059|2022-01-04 06:12:26|\n",
      "|23359|     1|1.799|2022-01-04 06:50:35|\n",
      "|53189|     1|1.739|2022-01-04 06:57:35|\n",
      "|13242|     1|1.749|2022-01-04 07:55:48|\n",
      "|48977|     0| 1.74|2022-01-04 08:00:50|\n",
      "|25216|     0|1.889|2022-01-04 08:43:58|\n",
      "|37535|     1|1.769|2022-01-04 08:48:30|\n",
      "|50536|     0|2.061|2022-01-04 09:30:35|\n",
      "|16536|     0|2.024|2022-01-04 10:17:24|\n",
      "|11987|     0|1.829|2022-01-04 10:38:22|\n",
      "| 3988|     0|2.309|2022-01-04 11:46:58|\n",
      "|25561|     1|1.778|2022-01-04 12:43:43|\n",
      "|53223|     0|1.799|2022-01-04 13:11:21|\n",
      "|16791|     1|1.829|2022-01-04 13:15:27|\n",
      "|46153|     1|1.779|2022-01-04 13:26:09|\n",
      "|42357|     1|1.794|2022-01-04 13:26:42|\n",
      "|22669|     1|1.809|2022-01-04 13:32:44|\n",
      "|50036|     1|2.109|2022-01-04 13:35:54|\n",
      "| 5243|     1|1.789|2022-01-04 13:42:13|\n",
      "+-----+------+-----+-------------------+\n",
      "only showing top 20 rows\n",
      "\n"
     ]
    },
    {
     "name": "stderr",
     "output_type": "stream",
     "text": [
      "                                                                                \r"
     ]
    }
   ],
   "source": [
    "hourlyPrices_df.show()"
   ]
  },
  {
   "cell_type": "code",
   "execution_count": 6,
   "metadata": {},
   "outputs": [
    {
     "name": "stdout",
     "output_type": "stream",
     "text": [
      "+-----+--------------------+-------------------+------------+--------------------+--------------------+---------+-----------+\n",
      "|   Id|Fuel_station_manager|     Petrol_company|        Type|        Station_name|                City| Latitude|Longitudine|\n",
      "+-----+--------------------+-------------------+------------+--------------------+--------------------+---------+-----------+\n",
      "|36419|GP GREEN POWER EX Q8|      Pompe Bianche|    Stradale|GP GREEN POWER EX Q8|           SICULIANA|37.336323|  13.425704|\n",
      "|40677|Q8 viale della Vi...|                 Q8|    Stradale|Q8 viale della Vi...|              ANCONA|  43.6162|  13.521665|\n",
      "|49102|street bar srl fa...|           Agip Eni|    Stradale|street bar srl fa...|            FABRIANO| 43.34446|  12.975039|\n",
      "|47425|   PENTA PETROLI SRL|      Pompe Bianche|    Stradale|     EWA POINT TUFO |                TUFO|41.009964|  14.823013|\n",
      "|23376|SERVIZI & GESTION...|                 Q8|    Stradale| ALTAMURA VIA CORATO|            ALTAMURA|40.835793|   16.54458|\n",
      "|25217|SERVIZI & GESTION...|                 Q8|    Stradale|   BARI VIA F.CRISPI|                BARI|41.120823|  16.848532|\n",
      "|11427|stazione di servi...|             Api-Ip|    Stradale|stazione di servi...|           TRIGGIANO|  41.0691|  16.932316|\n",
      "|37343|CRIPPA ALESSANDRO...|             Api-Ip|    Stradale|            totalerg|             BERGAMO|45.706135|   9.679546|\n",
      "|36723|        SARNI S.R.L.|          Sarni Oil|Autostradale|   RONCOBILACCIO EST|CASTIGLIONE DEI P...| 44.11662|  11.231773|\n",
      "|21332|GIOVANNINI S.N.C....|Bertelli Carburanti|    Stradale|      Giovannini snc|              LOIANO|44.266003|  11.324701|\n",
      "|16644|GRASSITELLI CARBU...|      Pompe Bianche|    Stradale|GRASSITELLI CARBU...|         TRINITAPOLI|41.357807|  16.127958|\n",
      "|14112|        BRIDA SANDRO|           Agip Eni|    Stradale|    Eni Brida Sandro|             BOLZANO|46.505646|  11.347108|\n",
      "|46791|        TIGER S.R.L.|             Tamoil|Autostradale|         PLOSE OVEST|               VARNA| 46.72968|  11.642484|\n",
      "|33185|SERVIZI & GESTION...|                 Q8|    Stradale|SARROCH S.S. 195 ...|             SARROCH| 39.10973|   8.998206|\n",
      "|52511|CARBURANTI F.LLI ...|           Agip Eni|    Stradale|Eni - CARBURANTI ...|     SAN POLO MATESE|41.473797|  14.519544|\n",
      "|13834|DITTA RANALLI GIU...|      Pompe Bianche|    Stradale|Ditta Ranalli Giu...|              ORTONA|  42.3569|  14.412005|\n",
      "|47702|        SARNI S.R.L.|          Sarni Oil|Autostradale|          SANGRO EST|    TORINO DI SANGRO|42.200787|  14.562347|\n",
      "|46096|      EUROPAM S.R.L.|            Europam|    Stradale|EUROPAM - CHIUSA ...|     CHIUSA DI PESIO| 44.32852|  7.6698847|\n",
      "| 7402|IP di Mondino Cla...|             Api-Ip|    Stradale|IP di Mondino Cla...|            MONDOVI'|44.397923|  7.7504964|\n",
      "|10528| CENTRO CALOR S.R.L.|      Pompe Bianche|    Stradale|CENTRO CALOR SCAR...|          SCARNAFIGI|44.684483|   7.571523|\n",
      "+-----+--------------------+-------------------+------------+--------------------+--------------------+---------+-----------+\n",
      "only showing top 20 rows\n",
      "\n"
     ]
    }
   ],
   "source": [
    "stationInfo_df.show()"
   ]
  },
  {
   "cell_type": "code",
   "execution_count": 7,
   "metadata": {},
   "outputs": [
    {
     "name": "stdout",
     "output_type": "stream",
     "text": [
      "root\n",
      " |-- Id: integer (nullable = true)\n",
      " |-- isSelf: integer (nullable = true)\n",
      " |-- Price: double (nullable = true)\n",
      " |-- Date: timestamp (nullable = true)\n",
      "\n",
      "root\n",
      " |-- Id: string (nullable = true)\n",
      " |-- Fuel_station_manager: string (nullable = true)\n",
      " |-- Petrol_company: string (nullable = true)\n",
      " |-- Type: string (nullable = true)\n",
      " |-- Station_name: string (nullable = true)\n",
      " |-- City: string (nullable = true)\n",
      " |-- Latitude: float (nullable = true)\n",
      " |-- Longitudine: float (nullable = true)\n",
      "\n",
      "None None\n"
     ]
    }
   ],
   "source": [
    "print(hourlyPrices_df.printSchema(), stationInfo_df.printSchema())"
   ]
  },
  {
   "cell_type": "code",
   "execution_count": 8,
   "metadata": {},
   "outputs": [],
   "source": [
    "from pyspark.sql.functions import col, lag, avg, abs, lit, min, udf, dense_rank\n",
    "from pyspark.sql.window import Window\n",
    "from haversine import haversine, Unit\n",
    "from pyspark.sql.types import FloatType"
   ]
  },
  {
   "cell_type": "markdown",
   "metadata": {},
   "source": [
    "### Q1. Find the `Most Stable Company` and `Most Volatile Company` based on `Average Daily Price Variation`\n"
   ]
  },
  {
   "cell_type": "code",
   "execution_count": 9,
   "metadata": {},
   "outputs": [],
   "source": [
    "df_forAvg = hourlyPrices_df.join(stationInfo_df.select(\"Id\", \"Petrol_company\"), \"Id\")\n",
    "\n",
    "window_spec = Window.partitionBy(\"Petrol_company\").orderBy(\"Date\")\n",
    "\n",
    "daily_var = df_forAvg.withColumn(\"Previous_Price\", lag(\"Price\").over(window_spec))\n",
    "daily_var = daily_var.withColumn(\"Price_Variation\", abs(col(\"Price\") - col(\"Previous_Price\")))\n",
    "# daily_var.show()"
   ]
  },
  {
   "cell_type": "code",
   "execution_count": 10,
   "metadata": {},
   "outputs": [],
   "source": [
    "daily_var = daily_var.filter(col(\"Previous_Price\").isNotNull())\n",
    "# daily_var.show()"
   ]
  },
  {
   "cell_type": "code",
   "execution_count": 11,
   "metadata": {},
   "outputs": [],
   "source": [
    "avg_variation_df = daily_var.groupBy(\"Petrol_company\").agg(avg(\"Price_Variation\").alias(\"Avg_Daily_Variation\"))\n",
    "# avg_variation_df.show()"
   ]
  },
  {
   "cell_type": "code",
   "execution_count": 12,
   "metadata": {},
   "outputs": [
    {
     "name": "stderr",
     "output_type": "stream",
     "text": [
      "[Stage 25:=================================================>        (6 + 1) / 7]\r"
     ]
    },
    {
     "name": "stdout",
     "output_type": "stream",
     "text": [
      "Most Stable Company:\n",
      "Company: Blanco petroli\n",
      "Average Daily Price Variation: 0.008190127970749542\n",
      "_*_*_*_*_*_*_*_*_*_*_*_*_*_*_*_*_*_*_*_*_*_*_*_*_*_*_*_*_*_*_*_*_*\n",
      "Most Volatile Company:\n",
      "Company: COLAGROSSI CARBURANTI\n",
      "Average Daily Price Variation: 0.2854666666666667\n"
     ]
    },
    {
     "name": "stderr",
     "output_type": "stream",
     "text": [
      "                                                                                \r"
     ]
    }
   ],
   "source": [
    "min_variation_company = avg_variation_df.orderBy(\"Avg_Daily_Variation\").first()\n",
    "max_variation_company = avg_variation_df.orderBy(avg_variation_df[\"Avg_Daily_Variation\"].desc()).first()\n",
    "\n",
    "print(\"Most Stable Company:\")\n",
    "print(\"Company:\", min_variation_company[\"Petrol_company\"])\n",
    "print(\"Average Daily Price Variation:\", min_variation_company[\"Avg_Daily_Variation\"])\n",
    "\n",
    "print(\"_*\"*33)\n",
    "\n",
    "print(\"Most Volatile Company:\")\n",
    "print(\"Company:\", max_variation_company[\"Petrol_company\"])\n",
    "print(\"Average Daily Price Variation:\", max_variation_company[\"Avg_Daily_Variation\"])\n"
   ]
  },
  {
   "cell_type": "markdown",
   "metadata": {},
   "source": [
    "### Q2. `Find 9 nearest stations to a certain reference station and calculate the price difference between the fuel station and its nearest competitor`"
   ]
  },
  {
   "cell_type": "code",
   "execution_count": 13,
   "metadata": {},
   "outputs": [],
   "source": [
    "@udf(FloatType())\n",
    "def calculate_distance(lat1, lon1, lat2, lon2):\n",
    "    return haversine((lat1, lon1), (lat2, lon2), unit=Unit.KILOMETERS)"
   ]
  },
  {
   "cell_type": "code",
   "execution_count": 14,
   "metadata": {},
   "outputs": [],
   "source": [
    "ref_latitude = 40.7160385\n",
    "ref_longitude = 14.9413282"
   ]
  },
  {
   "cell_type": "code",
   "execution_count": 15,
   "metadata": {},
   "outputs": [],
   "source": [
    "stationInfo_df = stationInfo_df.filter((col(\"Latitude\").isNotNull()) & (col(\"Longitudine\").isNotNull()))"
   ]
  },
  {
   "cell_type": "code",
   "execution_count": 16,
   "metadata": {},
   "outputs": [],
   "source": [
    "dis_stationInfo_df = stationInfo_df.withColumn(\n",
    "    \"distance\",\n",
    "    calculate_distance(\n",
    "        lit(ref_latitude),\n",
    "        lit(ref_longitude),\n",
    "        col(\"Latitude\"),\n",
    "        col(\"Longitudine\")\n",
    "    )\n",
    ")"
   ]
  },
  {
   "cell_type": "code",
   "execution_count": 17,
   "metadata": {},
   "outputs": [],
   "source": [
    "min_distance_df = dis_stationInfo_df.groupBy(\"Id\").agg(min(\"distance\").alias(\"min_distance\"))\n",
    "# min_distance_df.show()"
   ]
  },
  {
   "cell_type": "code",
   "execution_count": 18,
   "metadata": {},
   "outputs": [],
   "source": [
    "price_diff_df = hourlyPrices_df.join(min_distance_df, \"Id\", \"inner\")\n",
    "# price_diff_df.show()"
   ]
  },
  {
   "cell_type": "code",
   "execution_count": 19,
   "metadata": {},
   "outputs": [],
   "source": [
    "window_spec = Window.orderBy(col(\"min_distance\"))\n",
    "ranked_stations_df = price_diff_df.withColumn(\"rank\", dense_rank().over(window_spec))\n",
    "deduplicated_stations_df = ranked_stations_df.dropDuplicates(['Id']).drop(\"Date\")\n",
    "filtered_stations_df = deduplicated_stations_df.filter(col(\"rank\") <= 9).orderBy(\"rank\")\n",
    "filtered_stations_df = filtered_stations_df.drop('rank')\n",
    "# filtered_stations_df.show()"
   ]
  },
  {
   "cell_type": "code",
   "execution_count": 20,
   "metadata": {},
   "outputs": [
    {
     "name": "stderr",
     "output_type": "stream",
     "text": [
      "23/09/12 11:36:37 WARN WindowExec: No Partition Defined for Window operation! Moving all data to a single partition, this can cause serious performance degradation.\n",
      "23/09/12 11:36:37 WARN WindowExec: No Partition Defined for Window operation! Moving all data to a single partition, this can cause serious performance degradation.\n",
      "23/09/12 11:36:37 WARN WindowExec: No Partition Defined for Window operation! Moving all data to a single partition, this can cause serious performance degradation.\n",
      "23/09/12 11:36:37 WARN WindowExec: No Partition Defined for Window operation! Moving all data to a single partition, this can cause serious performance degradation.\n",
      "23/09/12 11:36:37 WARN WindowExec: No Partition Defined for Window operation! Moving all data to a single partition, this can cause serious performance degradation.\n",
      "23/09/12 11:36:40 WARN WindowExec: No Partition Defined for Window operation! Moving all data to a single partition, this can cause serious performance degradation.\n",
      "23/09/12 11:36:40 WARN WindowExec: No Partition Defined for Window operation! Moving all data to a single partition, this can cause serious performance degradation.\n",
      "23/09/12 11:36:40 WARN WindowExec: No Partition Defined for Window operation! Moving all data to a single partition, this can cause serious performance degradation.\n",
      "23/09/12 11:36:40 WARN WindowExec: No Partition Defined for Window operation! Moving all data to a single partition, this can cause serious performance degradation.\n",
      "23/09/12 11:36:40 WARN WindowExec: No Partition Defined for Window operation! Moving all data to a single partition, this can cause serious performance degradation.\n",
      "23/09/12 11:36:40 WARN WindowExec: No Partition Defined for Window operation! Moving all data to a single partition, this can cause serious performance degradation.\n",
      "23/09/12 11:36:40 WARN WindowExec: No Partition Defined for Window operation! Moving all data to a single partition, this can cause serious performance degradation.\n",
      "23/09/12 11:36:40 WARN WindowExec: No Partition Defined for Window operation! Moving all data to a single partition, this can cause serious performance degradation.\n",
      "23/09/12 11:36:41 WARN WindowExec: No Partition Defined for Window operation! Moving all data to a single partition, this can cause serious performance degradation.\n",
      "23/09/12 11:36:41 WARN WindowExec: No Partition Defined for Window operation! Moving all data to a single partition, this can cause serious performance degradation.\n",
      "23/09/12 11:36:41 WARN WindowExec: No Partition Defined for Window operation! Moving all data to a single partition, this can cause serious performance degradation.\n",
      "23/09/12 11:36:41 WARN WindowExec: No Partition Defined for Window operation! Moving all data to a single partition, this can cause serious performance degradation.\n",
      "23/09/12 11:36:41 WARN WindowExec: No Partition Defined for Window operation! Moving all data to a single partition, this can cause serious performance degradation.\n",
      "23/09/12 11:36:41 WARN WindowExec: No Partition Defined for Window operation! Moving all data to a single partition, this can cause serious performance degradation.\n",
      "23/09/12 11:36:41 WARN WindowExec: No Partition Defined for Window operation! Moving all data to a single partition, this can cause serious performance degradation.\n",
      "23/09/12 11:36:41 WARN WindowExec: No Partition Defined for Window operation! Moving all data to a single partition, this can cause serious performance degradation.\n",
      "[Stage 34:>                                                         (0 + 1) / 1]\r"
     ]
    },
    {
     "name": "stdout",
     "output_type": "stream",
     "text": [
      "+-----+------+-----+------------+---------------------------+------------------------------------+\n",
      "|   Id|isSelf|Price|min_distance|Price_of_Nearest_Competitor|PriceDifferenceFromNearestCompetitor|\n",
      "+-----+------+-----+------------+---------------------------+------------------------------------+\n",
      "|38792|     1| 1.82|  0.22640005|                       null|                                null|\n",
      "|52830|     1|1.929|   0.3241125|                       1.82|                 0.10899999999999999|\n",
      "|17152|     0|2.014|    2.730627|                      1.929|                 0.08499999999999974|\n",
      "|17409|     0|1.979|    2.848063|                      2.014|                 -0.0349999999999997|\n",
      "|51180|     1|1.759|   2.9082253|                      1.979|                 -0.2200000000000002|\n",
      "|27109|     1|1.709|   4.2238717|                      1.759|                -0.04999999999999982|\n",
      "|46547|     1|1.799|    4.730566|                      1.709|                 0.08999999999999986|\n",
      "|23047|     1|1.767|   4.7989206|                      1.799|                -0.03200000000000003|\n",
      "|42180|     0|1.789|    5.923098|                      1.767|                 0.02200000000000002|\n",
      "+-----+------+-----+------------+---------------------------+------------------------------------+\n",
      "\n"
     ]
    },
    {
     "name": "stderr",
     "output_type": "stream",
     "text": [
      "                                                                                \r"
     ]
    }
   ],
   "source": [
    "window_spec = Window.orderBy(\"min_distance\")\n",
    "filtered_stations_df = filtered_stations_df.withColumn(\"Price_of_Nearest_Competitor\", lag(\"Price\").over(window_spec))\n",
    "filtered_stations_df = filtered_stations_df.withColumn(\n",
    "    \"PriceDifferenceFromNearestCompetitor\",\n",
    "    col(\"Price\") - col(\"Price_of_Nearest_Competitor\")\n",
    ")\n",
    "filtered_stations_df.show()"
   ]
  },
  {
   "cell_type": "code",
   "execution_count": 21,
   "metadata": {},
   "outputs": [],
   "source": [
    "# Stop the SparkSession\n",
    "spark.stop()"
   ]
  },
  {
   "cell_type": "code",
   "execution_count": null,
   "metadata": {},
   "outputs": [],
   "source": []
  }
 ],
 "metadata": {
  "kernelspec": {
   "display_name": "theVenv",
   "language": "python",
   "name": "python3"
  },
  "language_info": {
   "codemirror_mode": {
    "name": "ipython",
    "version": 3
   },
   "file_extension": ".py",
   "mimetype": "text/x-python",
   "name": "python",
   "nbconvert_exporter": "python",
   "pygments_lexer": "ipython3",
   "version": "3.8.10"
  },
  "orig_nbformat": 4
 },
 "nbformat": 4,
 "nbformat_minor": 2
}
